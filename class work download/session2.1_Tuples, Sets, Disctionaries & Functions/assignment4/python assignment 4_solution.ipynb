{
 "cells": [
  {
   "cell_type": "markdown",
   "metadata": {},
   "source": [
    "# Assignment 4"
   ]
  },
  {
   "cell_type": "markdown",
   "metadata": {},
   "source": [
    "#### Q1.1 Write a Python Program(with class concepts) to find the area of the triangle using the below formula.\n",
    "\n",
    "#### area = (s*(s-a)*(s-b)*(s-c)) ** 0.5\n",
    "\n",
    "#### Function to take the length of the sides of triangle from user should be defined in the parent class and function to calculate the area should be defined in subclass."
   ]
  },
  {
   "cell_type": "code",
   "execution_count": 29,
   "metadata": {},
   "outputs": [],
   "source": [
    "class Triangle:\n",
    "    def __init__(self):\n",
    "        #constructor\n",
    "        self.a = int(input('please enter side a of the triangle: '))\n",
    "        self.b = int(input('please enter side b of the triangle: '))\n",
    "        self.c = int(input('please enter side c of the triangle: '))\n",
    "\n",
    "class Area_of_triangle(Triangle):\n",
    "    def __init__(self):\n",
    "        super().__init__()\n",
    "        self.s = (self.a + self.b + self.c)/2\n",
    "    \n",
    "    def __str__(self):\n",
    "        return \"Area of triangle is {}\".format(self.s * (self.s-self.a) * (self.s-self.b) * (self.s-self.c))"
   ]
  },
  {
   "cell_type": "code",
   "execution_count": 30,
   "metadata": {},
   "outputs": [
    {
     "name": "stdout",
     "output_type": "stream",
     "text": [
      "please enter side a of the triangle: 4\n",
      "please enter side b of the triangle: 5\n",
      "please enter side c of the triangle: 6\n",
      "Area of triangle is 98.4375\n"
     ]
    }
   ],
   "source": [
    "print(Area_of_triangle())"
   ]
  },
  {
   "cell_type": "markdown",
   "metadata": {},
   "source": [
    "#### 1.2 Write a function filter_long_words() that takes a list of words and an integer n and returns the list of words that are longer than n."
   ]
  },
  {
   "cell_type": "code",
   "execution_count": 73,
   "metadata": {},
   "outputs": [
    {
     "name": "stdout",
     "output_type": "stream",
     "text": [
      "enter words seperated by ',' one, two, three\n",
      "enter length to filter: 2\n",
      "['one', 'two', 'three']\n"
     ]
    }
   ],
   "source": [
    "#words = ['abc','ab','aaaaaa','bbb']\n",
    "words = input(\"enter words seperated by ',' \")\n",
    "words = list(words.split(','))\n",
    "\n",
    "n = int(input('enter length to filter: '))\n",
    "\n",
    "words = list(map(lambda x: x.strip(), words))\n",
    "print(words)"
   ]
  },
  {
   "cell_type": "code",
   "execution_count": 65,
   "metadata": {},
   "outputs": [
    {
     "data": {
      "text/plain": [
       "['three', 'seven']"
      ]
     },
     "execution_count": 65,
     "metadata": {},
     "output_type": "execute_result"
    }
   ],
   "source": [
    "# method1\n",
    "def filter_long_words(words, n):\n",
    "    return [word_ for word_ in words if len(word_) > n]\n",
    "\n",
    "filter_long_words(words, n)"
   ]
  },
  {
   "cell_type": "code",
   "execution_count": 66,
   "metadata": {},
   "outputs": [
    {
     "data": {
      "text/plain": [
       "['three', 'seven']"
      ]
     },
     "execution_count": 66,
     "metadata": {},
     "output_type": "execute_result"
    }
   ],
   "source": [
    "# method 2\n",
    "def filter_long_words(word, n):\n",
    "    if len(word) > n:\n",
    "        return word\n",
    "\n",
    "list(filter(lambda word,n=n: filter_long_words(word, n), words))"
   ]
  },
  {
   "cell_type": "code",
   "execution_count": 67,
   "metadata": {},
   "outputs": [
    {
     "data": {
      "text/plain": [
       "[None, None, 'three', None, None, None, 'seven']"
      ]
     },
     "execution_count": 67,
     "metadata": {},
     "output_type": "execute_result"
    }
   ],
   "source": [
    "# works but not exact result\n",
    "def filter_long_words(word, n):\n",
    "    if len(word) > n:\n",
    "        return word\n",
    "    \n",
    "list(map(lambda word,n=n: filter_long_words(word, n), words))"
   ]
  },
  {
   "cell_type": "markdown",
   "metadata": {},
   "source": [
    "#### 2.1 Write a Python program using function concept that maps list of words into a list of integers representing the lengths of the corresponding words.\n",
    "\n",
    "#### Hint: If a list [ab,cde,erty] is passed on to the python function output should come as [2,3,4]. Here 2,3 and 4 are the lengths of the words in the list."
   ]
  },
  {
   "cell_type": "code",
   "execution_count": 69,
   "metadata": {},
   "outputs": [
    {
     "data": {
      "text/plain": [
       "[2, 3, 4]"
      ]
     },
     "execution_count": 69,
     "metadata": {},
     "output_type": "execute_result"
    }
   ],
   "source": [
    "lst = ['ab','cde','erty']\n",
    "\n",
    "list(map(lambda x: len(x), lst))"
   ]
  },
  {
   "cell_type": "markdown",
   "metadata": {},
   "source": [
    "#### 2.2 Write a Python function which takes a character (i.e. a string of length 1) and returns True if it is a vowel, False otherwise."
   ]
  },
  {
   "cell_type": "code",
   "execution_count": 84,
   "metadata": {},
   "outputs": [
    {
     "name": "stdout",
     "output_type": "stream",
     "text": [
      "enter character to check: u\n"
     ]
    },
    {
     "data": {
      "text/plain": [
       "[True]"
      ]
     },
     "execution_count": 84,
     "metadata": {},
     "output_type": "execute_result"
    }
   ],
   "source": [
    "c = input('enter character to check: ')\n",
    "\n",
    "list(map(lambda x: x in ['a','e','i','o','u'], c))"
   ]
  }
 ],
 "metadata": {
  "kernelspec": {
   "display_name": "Python 3",
   "language": "python",
   "name": "python3"
  },
  "language_info": {
   "codemirror_mode": {
    "name": "ipython",
    "version": 3
   },
   "file_extension": ".py",
   "mimetype": "text/x-python",
   "name": "python",
   "nbconvert_exporter": "python",
   "pygments_lexer": "ipython3",
   "version": "3.8.5"
  }
 },
 "nbformat": 4,
 "nbformat_minor": 4
}
