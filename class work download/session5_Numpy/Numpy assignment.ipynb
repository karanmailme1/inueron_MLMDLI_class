{
 "cells": [
  {
   "cell_type": "code",
   "execution_count": 2,
   "metadata": {},
   "outputs": [],
   "source": [
    "import numpy as np\n",
    "import pandas as pd"
   ]
  },
  {
   "cell_type": "markdown",
   "metadata": {},
   "source": [
    "Q1. Write a function so that the columns of the output matrix are powers of the input vector.\n",
    "\n",
    "The order of the powers is determined by the increasing boolean argument. Specifically, when increasing is False, the i-th output column is the input vector raised element-wise to the power of N - i - 1.\n",
    "\n",
    "HINT: Such a matrix with a geometric progression in each row is named for AlexandreTheophile Vandermonde."
   ]
  },
  {
   "cell_type": "code",
   "execution_count": 38,
   "metadata": {},
   "outputs": [
    {
     "name": "stdout",
     "output_type": "stream",
     "text": [
      "increasing:\n",
      "[[ 1  1  1  1  1]\n",
      " [ 1  2  4  8 16]\n",
      " [ 1  3  9 27 81]]\n",
      "\n",
      "\n",
      "decreasing:\n",
      "[[ 1  1  1  1  1]\n",
      " [16  8  4  2  1]\n",
      " [81 27  9  3  1]]\n"
     ]
    }
   ],
   "source": [
    "def alexandreTheophileVandermonde(ip, N, increasing = False):\n",
    "    if increasing!=True:\n",
    "        print(\"increasing:\")\n",
    "        print(np.array([i**j for i in ip for j in range(N)]).reshape(len(ip), N))\n",
    "    else:\n",
    "        print(\"decreasing:\")\n",
    "        print(np.array([i**(N-j-1) for i in ip for j in range(N)]).reshape(len(ip),N))\n",
    "        \n",
    "ip = [1,2,3]\n",
    "N = 5\n",
    "\n",
    "alexandreTheophileVandermonde(ip, N, increasing = False)\n",
    "print(\"\\n\")\n",
    "alexandreTheophileVandermonde(ip, N, increasing = True)"
   ]
  },
  {
   "cell_type": "markdown",
   "metadata": {},
   "source": [
    "Q2. Given a sequence of n values x1, x2, ..., xn and a window size k>0, the k-th moving average of the given sequence is defined as follows: The moving average sequence has n-k+1 elements as shown below. The moving averages with k=4 of a ten-value sequence (n=10) is shown below\n",
    "\n",
    "i 1 2 3 4 5 6 7 8 9 10\n",
    "\n",
    "===== == == == == == == == == == ==\n",
    "\n",
    "Input 10 20 30 40 50 60 70 80 90 100\n",
    "\n",
    "y1 25 = (10+20+30+40)/4\n",
    "\n",
    "y2 35 = (20+30+40+50)/4\n",
    "\n",
    "y3 45 = (30+40+50+60)/4\n",
    "\n",
    "y4 55 = (40+50+60+70)/4\n",
    "\n",
    "y5 65 = (50+60+70+80)/4\n",
    "\n",
    "y6 75 = (60+70+80+90)/4\n",
    "\n",
    "y7 85 = (70+80+90+100)/4\n",
    "\n",
    "Thus, the moving average sequence has n-k+1=10-4+1=7 values.\n",
    "\n",
    "Question: Write a function to find moving average in an array over a window:\n",
    "Test it over [3, 5, 7, 2, 8, 10, 11, 65, 72, 81, 99, 100, 150] and window of 3."
   ]
  },
  {
   "cell_type": "code",
   "execution_count": 65,
   "metadata": {},
   "outputs": [
    {
     "name": "stdout",
     "output_type": "stream",
     "text": [
      "The moving average sequence size is, (n-k+1) = 11 \n",
      "\n",
      "y1 = 5.0\n",
      "y2 = 4.666666666666667\n",
      "y3 = 5.666666666666667\n",
      "y4 = 6.666666666666667\n",
      "y5 = 9.666666666666666\n",
      "y6 = 28.666666666666668\n",
      "y7 = 49.333333333333336\n",
      "y8 = 72.66666666666667\n",
      "y9 = 84.0\n",
      "y10 = 93.33333333333333\n",
      "y11 = 116.33333333333333\n"
     ]
    }
   ],
   "source": [
    "ip = [3, 5, 7, 2, 8, 10, 11, 65, 72, 81, 99, 100, 150] #window\n",
    "k = 3 #window size\n",
    "\n",
    "def movingWindow(ip, k):\n",
    "    n = len(ip)\n",
    "    print('The moving average sequence size is, (n-k+1) =', n-k+1, \"\\n\")\n",
    "    #print(ip[0:(n-k+1)])\n",
    "    \n",
    "    if (n-k+1) > 1:\n",
    "        mw = [sum(ip[i:(i+k)])/3 for i in range(n-k+1)]\n",
    "        for i,j in enumerate(mw):\n",
    "            print('y{} = {}'.format(i+1,j))\n",
    "    else:\n",
    "        print('invalid')\n",
    "\n",
    "movingWindow(ip, k)"
   ]
  }
 ],
 "metadata": {
  "kernelspec": {
   "display_name": "Python 3",
   "language": "python",
   "name": "python3"
  },
  "language_info": {
   "codemirror_mode": {
    "name": "ipython",
    "version": 3
   },
   "file_extension": ".py",
   "mimetype": "text/x-python",
   "name": "python",
   "nbconvert_exporter": "python",
   "pygments_lexer": "ipython3",
   "version": "3.7.3"
  }
 },
 "nbformat": 4,
 "nbformat_minor": 2
}
