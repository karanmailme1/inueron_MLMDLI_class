{
 "cells": [
  {
   "cell_type": "code",
   "execution_count": 7,
   "metadata": {},
   "outputs": [
    {
     "name": "stdout",
     "output_type": "stream",
     "text": [
      "<mysql.connector.connection.MySQLConnection object at 0x0000023A131EB100>\n",
      "True\n"
     ]
    }
   ],
   "source": [
    "import mysql.connector as connection\n",
    "\n",
    "try:\n",
    "    mydb = connection.connect(host=\"localhost\", user=\"root\", passwd=\"Welcome@12\",use_pure=True)\n",
    "    print(mydb)\n",
    "    # check if the connection is established\n",
    "    print(mydb.is_connected())\n",
    "    mydb.close()\n",
    "except Exception as e:\n",
    "    print(str(e))"
   ]
  },
  {
   "cell_type": "code",
   "execution_count": 54,
   "metadata": {},
   "outputs": [
    {
     "name": "stdout",
     "output_type": "stream",
     "text": [
      "[('glassdata',), ('information_schema',), ('mysql',), ('performance_schema',), ('sakila',), ('student',), ('sys',), ('world',)] \n",
      "\n",
      "('glassdata',)\n",
      "glassdata\n",
      "g \n",
      "\n",
      "('information_schema',)\n",
      "information_schema\n",
      "i \n",
      "\n",
      "('mysql',)\n",
      "mysql\n",
      "m \n",
      "\n",
      "('performance_schema',)\n",
      "performance_schema\n",
      "p \n",
      "\n",
      "('sakila',)\n",
      "sakila\n",
      "s \n",
      "\n",
      "('student',)\n",
      "student\n",
      "s \n",
      "\n",
      "('sys',)\n",
      "sys\n",
      "s \n",
      "\n",
      "('world',)\n",
      "world\n",
      "w \n",
      "\n"
     ]
    }
   ],
   "source": [
    "import mysql.connector as connection\n",
    "\n",
    "try:\n",
    "    mydb = connection.connect(host=\"localhost\",user=\"root\", passwd=\"Welcome@12\",use_pure=True)\n",
    "    # check if the connection is established\n",
    "\n",
    "    query = \"SHOW DATABASES\"\n",
    "\n",
    "    cursor = mydb.cursor() #create a cursor to execute queries\n",
    "    cursor.execute(query)\n",
    "    op = cursor.fetchall()\n",
    "    print(op,\"\\n\")\n",
    "    \n",
    "    for i in op:\n",
    "        print(i)\n",
    "        print(i[0])\n",
    "        print(i[0][0], \"\\n\")\n",
    "\n",
    "except Exception as e:\n",
    "    mydb.close()\n",
    "    print(str(e))"
   ]
  },
  {
   "cell_type": "code",
   "execution_count": 8,
   "metadata": {},
   "outputs": [
    {
     "name": "stdout",
     "output_type": "stream",
     "text": [
      "True\n",
      "1007 (HY000): Can't create database 'student'; database exists\n"
     ]
    }
   ],
   "source": [
    "import mysql.connector as connection\n",
    "\n",
    "try:\n",
    "    mydb = connection.connect(host=\"localhost\", user=\"root\", passwd=\"Welcome@12\",use_pure=True)\n",
    "    # check if the connection is established\n",
    "    print(mydb.is_connected())\n",
    "\n",
    "    query = \"Create database Student;\"\n",
    "    cursor = mydb.cursor() #create a cursor to execute queries\n",
    "    cursor.execute(query)\n",
    "    print(\"Database Created!!\")\n",
    "    mydb.close()\n",
    "except Exception as e:\n",
    "    mydb.close()\n",
    "    print(str(e))"
   ]
  },
  {
   "cell_type": "code",
   "execution_count": 10,
   "metadata": {},
   "outputs": [
    {
     "name": "stdout",
     "output_type": "stream",
     "text": [
      "True\n",
      "1050 (42S01): Table 'studentdetails' already exists\n"
     ]
    }
   ],
   "source": [
    "import mysql.connector as connection\n",
    "\n",
    "try:\n",
    "    mydb = connection.connect(host=\"localhost\", database= 'Student',user=\"root\", passwd=\"Welcome@12\",use_pure=True)\n",
    "    # check if the connection is established\n",
    "    print(mydb.is_connected())\n",
    "\n",
    "    query = \"CREATE TABLE StudentDetails (Studentid INT(10) AUTO_INCREMENT PRIMARY KEY,FirstName VARCHAR(60),\" \\\n",
    "            \"LastName VARCHAR(60), RegistrationDate DATE,Class Varchar(20), Section Varchar(10))\"\n",
    "\n",
    "    cursor = mydb.cursor() #create a cursor to execute queries\n",
    "    cursor.execute(query)\n",
    "    print(\"Table Created!!\")\n",
    "    mydb.close()\n",
    "except Exception as e:\n",
    "    mydb.close()\n",
    "    print(str(e))"
   ]
  },
  {
   "cell_type": "code",
   "execution_count": 25,
   "metadata": {},
   "outputs": [
    {
     "name": "stdout",
     "output_type": "stream",
     "text": [
      "True\n",
      "Values inserted into the table!!\n"
     ]
    }
   ],
   "source": [
    "import mysql.connector as connection\n",
    "\n",
    "try:\n",
    "    mydb = connection.connect(host=\"localhost\", database = 'Student',user=\"root\", passwd=\"Welcome@12\",use_pure=True)\n",
    "    # check if the connection is established\n",
    "    print(mydb.is_connected())\n",
    "    query = \"INSERT INTO StudentDetails VALUES ('1133','Tachin','Chumar','1997-11-11','Eleventh','A')\"\n",
    "\n",
    "    cursor = mydb.cursor() #create a cursor to execute queries\n",
    "    cursor.execute(query)\n",
    "    print(\"Values inserted into the table!!\")\n",
    "    mydb.commit()\n",
    "    mydb.close()\n",
    "except Exception as e:\n",
    "    mydb.close()\n",
    "    print(str(e))"
   ]
  },
  {
   "cell_type": "code",
   "execution_count": 24,
   "metadata": {},
   "outputs": [
    {
     "name": "stdout",
     "output_type": "stream",
     "text": [
      "True\n",
      "(1132, 'Sachin', 'Kumar', datetime.date(1997, 11, 11), 'Eleventh', 'A')\n",
      "(1133, 'Tachin', 'Chumar', datetime.date(1997, 11, 11), 'Eleventh', 'A')\n"
     ]
    }
   ],
   "source": [
    "import mysql.connector as connection\n",
    "\n",
    "try:\n",
    "    mydb = connection.connect(host=\"localhost\", database = 'Student',user=\"root\", passwd=\"Welcome@12\",use_pure=True)\n",
    "    #check if the connection is established\n",
    "    print(mydb.is_connected())\n",
    "    \n",
    "    query = \"Select * from StudentDetails;\"\n",
    "    cursor = mydb.cursor() #create a cursor to execute queries\n",
    "    cursor.execute(query)\n",
    "    #print(cursor.fetchall())\n",
    "    for result in cursor.fetchall():\n",
    "        print(result)\n",
    "    mydb.close() #close the connection\n",
    "\n",
    "except Exception as e:\n",
    "    #mydb.close()\n",
    "    print(str(e))"
   ]
  },
  {
   "cell_type": "code",
   "execution_count": 26,
   "metadata": {},
   "outputs": [
    {
     "name": "stdout",
     "output_type": "stream",
     "text": [
      "True\n",
      "(1122, 'Kumar', 'Gaurav', datetime.date(1997, 11, 11), 'Eleventh', 'A')\n"
     ]
    }
   ],
   "source": [
    "import mysql.connector as connection\n",
    "import pandas as pandas\n",
    "\n",
    "try:\n",
    "    mydb = connection.connect(host=\"localhost\", database='Student', user=\"root\", passwd=\"Welcome@12\", use_pure=True)\n",
    "    # check if the connection is established\n",
    "    print(mydb.is_connected())\n",
    "    \n",
    "    query = \"UPDATE studentdetails SET FirstName = 'Kumar', LastName = 'Gaurav' WHERE Studentid = 1122\"\n",
    "    cursor = mydb.cursor()  # create a cursor to execute queries\n",
    "    cursor.execute(query)\n",
    "    mydb.commit()\n",
    "\n",
    "    #let's check if the value is updated in the table.\n",
    "    query = \"Select * from studentdetails where Studentid=1122;\"\n",
    "    cursor = mydb.cursor()  # create a cursor to execute queries\n",
    "    cursor.execute(query)\n",
    "    for result in cursor.fetchall():\n",
    "        print(result)\n",
    "\n",
    "    mydb.close()  # close the connection\n",
    "\n",
    "except Exception as e:\n",
    "    #mydb.close()\n",
    "    print(str(e))"
   ]
  },
  {
   "cell_type": "code",
   "execution_count": 29,
   "metadata": {},
   "outputs": [
    {
     "name": "stdout",
     "output_type": "stream",
     "text": [
      "True\n",
      "   Studentid FirstName LastName RegistrationDate     Class Section\n",
      "0       1122     Kumar   Gaurav       1997-11-11  Eleventh       A\n",
      "1       1132    Sachin    Kumar       1997-11-11  Eleventh       A\n",
      "2       1133    Tachin   Chumar       1997-11-11  Eleventh       A\n",
      "<class 'pandas.core.frame.DataFrame'>\n"
     ]
    }
   ],
   "source": [
    "import mysql.connector as connection\n",
    "import pandas as pandas\n",
    "\n",
    "try:\n",
    "    mydb = connection.connect(host=\"localhost\", database='Student', user=\"root\", passwd=\"Welcome@12\", use_pure=True)\n",
    "    # check if the connection is established\n",
    "    print(mydb.is_connected())\n",
    "    \n",
    "    query = \"Select * from studentdetails;\"\n",
    "    result_dataFrame = pandas.read_sql(query,mydb)\n",
    "    print(result_dataFrame)\n",
    "    print(type(result_dataFrame))\n",
    "    mydb.close()  # close the connection\n",
    "\n",
    "except Exception as e:\n",
    "    #mydb.close()\n",
    "    print(str(e))"
   ]
  },
  {
   "cell_type": "code",
   "execution_count": 33,
   "metadata": {},
   "outputs": [
    {
     "name": "stdout",
     "output_type": "stream",
     "text": [
      "True\n",
      "(1122, 'Kumar', 'Gaurav', datetime.date(1997, 11, 11), 'Eleventh', 'A')\n",
      "(1132, 'Sachin', 'Kumar', datetime.date(1997, 11, 11), 'Eleventh', 'A')\n",
      "(1133, 'Tachin', 'Chumar', datetime.date(1997, 11, 11), 'Eleventh', 'A')\n"
     ]
    }
   ],
   "source": [
    "import mysql.connector as connection\n",
    "\n",
    "try:\n",
    "    mydb = connection.connect(host=\"localhost\", database = 'student',user=\"root\", passwd=\"Welcome@12\",use_pure=True)\n",
    "    #check if the connection is established\n",
    "    print(mydb.is_connected())\n",
    "    \n",
    "    query = \"Select * from studentdetails;\"\n",
    "    cursor = mydb.cursor() #create a cursor to execute queries\n",
    "    cursor.execute(query)\n",
    "    for result in cursor.fetchall():\n",
    "        print(result)\n",
    "    mydb.close() #close the connection\n",
    "\n",
    "except Exception as e:\n",
    "    #mydb.close()\n",
    "    print(str(e))"
   ]
  },
  {
   "cell_type": "code",
   "execution_count": 13,
   "metadata": {},
   "outputs": [
    {
     "name": "stdout",
     "output_type": "stream",
     "text": [
      "True\n"
     ]
    }
   ],
   "source": [
    "import mysql.connector as connection\n",
    "\n",
    "try:\n",
    "\n",
    "    mydb = connection.connect(host=\"localhost\", database='Student', user=\"root\", passwd=\"Welcome@12\", use_pure=True)\n",
    "    # check if the connection is established\n",
    "    print(mydb.is_connected())\n",
    "    query = \"DELETE FROM studentdetails WHERE Studentid = 1122\"\n",
    "    cursor = mydb.cursor()  # create a cursor to execute queries\n",
    "    cursor.execute(query)\n",
    "    mydb.commit()\n",
    "\n",
    "    #let's check if the value is updated in the table.\n",
    "    query = \"Select * from studentdetails where Studentid=1122;\"\n",
    "    cursor = mydb.cursor()  # create a cursor to execute queries\n",
    "    cursor.execute(query)\n",
    "    for result in cursor.fetchall():\n",
    "        print(result)\n",
    "\n",
    "    mydb.close()  # close the connection\n",
    "\n",
    "except Exception as e:\n",
    "    #mydb.close()\n",
    "    print(str(e))"
   ]
  },
  {
   "cell_type": "code",
   "execution_count": 42,
   "metadata": {},
   "outputs": [
    {
     "name": "stdout",
     "output_type": "stream",
     "text": [
      "True\n",
      "1007 (HY000): Can't create database 'glassdata'; database exists\n"
     ]
    }
   ],
   "source": [
    "import mysql.connector as connection\n",
    "import pandas as pandas\n",
    "import csv\n",
    "\n",
    "try:\n",
    "    mydb = connection.connect(host=\"localhost\", user=\"root\", passwd=\"Welcome@12\",use_pure=True)\n",
    "    #check if the connection is established\n",
    "    print(mydb.is_connected())\n",
    "    #create a new database\n",
    "    query = \"Create database GlassData;\"\n",
    "    cursor = mydb.cursor() #create a cursor to execute queries\n",
    "    cursor.execute(query)\n",
    "    print(\"Database Created!!\")\n",
    "    mydb.close() #close the connection\n",
    "\n",
    "    #Establish a new connection to the database created above\n",
    "    mydb = connection.connect(host=\"localhost\", database = 'GlassData',user=\"root\", passwd=\"Welcome@12\", use_pure=True)\n",
    "\n",
    "    #create a new table to store glass data\n",
    "    query = \"CREATE TABLE IF NOT EXISTS GlassData (Index_Number INT(10),RI float(10,5), Na float(10,5), Mg float(10,5),Al float(10,5),\" \\\n",
    "            \" Si float(10,5), K float(10,5), Ca float(10,5), Ba float(10,5), Fe float(10,5), Class INT(5))\"\n",
    "    cursor = mydb.cursor()  # create a cursor to execute queries\n",
    "    cursor.execute(query)\n",
    "    print(\"Table Created!!\")\n",
    "\n",
    "    #read from the file\n",
    "    with open('glass.data', \"r\") as f:\n",
    "        next(f)\n",
    "        glass_data = csv.reader(f, delimiter=\"\\n\")\n",
    "        for line in enumerate(glass_data):\n",
    "            print(line)\n",
    "            for list_ in (line[1]):\n",
    "                cursor.execute('INSERT INTO GlassData values ({values})'.format(values=(list_)))\n",
    "    print(\"Values inserted!!\")\n",
    "    mydb.commit()\n",
    "    cursor.close()\n",
    "    mydb.close()\n",
    "\n",
    "except Exception as e:\n",
    "    #mydb.close()\n",
    "    print(str(e))"
   ]
  },
  {
   "cell_type": "code",
   "execution_count": null,
   "metadata": {},
   "outputs": [],
   "source": []
  }
 ],
 "metadata": {
  "kernelspec": {
   "display_name": "Python 3",
   "language": "python",
   "name": "python3"
  },
  "language_info": {
   "codemirror_mode": {
    "name": "ipython",
    "version": 3
   },
   "file_extension": ".py",
   "mimetype": "text/x-python",
   "name": "python",
   "nbconvert_exporter": "python",
   "pygments_lexer": "ipython3",
   "version": "3.8.5"
  }
 },
 "nbformat": 4,
 "nbformat_minor": 4
}
